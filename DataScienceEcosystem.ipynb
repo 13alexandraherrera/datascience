{
 "cells": [
  {
   "cell_type": "markdown",
   "id": "f7beb0ed-2ed1-4014-87f2-926bee355bac",
   "metadata": {},
   "source": [
    "# Data Science Tools and Ecosystem\n"
   ]
  },
  {
   "cell_type": "markdown",
   "id": "a95f0339-25bc-4f7f-a2a2-f8a271f6b104",
   "metadata": {},
   "source": [
    "In this notebook, Data Science Tools and Ecosystem are summarized."
   ]
  },
  {
   "cell_type": "markdown",
   "id": "91c124f4-5307-4109-91dd-c783ecd59f9a",
   "metadata": {},
   "source": [
    "**Objetives**"
   ]
  },
  {
   "cell_type": "markdown",
   "id": "d013a8a1-6746-4082-858f-e7c38184f478",
   "metadata": {},
   "source": [
    "+ Write and run code \n",
    "+ Import libraries\n",
    "+ Different kernels in Jupyter"
   ]
  },
  {
   "cell_type": "markdown",
   "id": "fe403509-432c-4c7c-ae52-7f54a8c9009a",
   "metadata": {},
   "source": [
    "Some of the popular languages that Data Scientists use are:"
   ]
  },
  {
   "cell_type": "markdown",
   "id": "5d0df8a5-bf9f-4476-9677-a7074ec22ebd",
   "metadata": {},
   "source": [
    "1. SQL\n",
    "2. Python\n",
    "3. R"
   ]
  },
  {
   "cell_type": "markdown",
   "id": "1c5a9873-8412-4e32-8c92-507556ed9142",
   "metadata": {},
   "source": [
    "Some of the commonly used libraries used by Data Scientists include:\n",
    "\n",
    "1. Pandas\n",
    "2. Plotly\n",
    "3. ggplot"
   ]
  },
  {
   "cell_type": "markdown",
   "id": "c2a8d22a-338d-4ba4-9749-6c4f1f3ecc19",
   "metadata": {},
   "source": [
    "\n",
    "| Data Science tools | \n",
    "| -------------| \n",
    "| Eclipse| \n",
    "| VS Code | \n",
    "| JupyterLab | "
   ]
  },
  {
   "cell_type": "markdown",
   "id": "832bee84-737c-4a74-9ea4-0da5111e2dd6",
   "metadata": {},
   "source": [
    "### Below are a few examples of evaluating arithmetic expressions in Python.\n"
   ]
  },
  {
   "cell_type": "markdown",
   "id": "9862ee9a-a666-48a9-a895-af3bca0704d7",
   "metadata": {},
   "source": [
    " This a simple arithmetic expression to mutiply then add integers"
   ]
  },
  {
   "cell_type": "code",
   "execution_count": 11,
   "id": "519ffd28-0460-4d16-aa9e-0daa580b93e9",
   "metadata": {},
   "outputs": [
    {
     "data": {
      "text/plain": [
       "17"
      ]
     },
     "execution_count": 11,
     "metadata": {},
     "output_type": "execute_result"
    }
   ],
   "source": [
    "(3*4)+5"
   ]
  },
  {
   "cell_type": "markdown",
   "id": "620e3b59-ba48-405e-add7-6bf3ab9fc4ba",
   "metadata": {},
   "source": [
    "This will convert 200 minutes to hours by diving by 60"
   ]
  },
  {
   "cell_type": "code",
   "execution_count": 12,
   "id": "a6a8967c-f7a0-4dda-bbf5-e42fbb72b7db",
   "metadata": {},
   "outputs": [
    {
     "name": "stdout",
     "output_type": "stream",
     "text": [
      "3.3333333333333335\n"
     ]
    }
   ],
   "source": [
    "minutes=200\n",
    "hours=minutes/60\n",
    "print(hours)"
   ]
  },
  {
   "cell_type": "markdown",
   "id": "a10044c7-394f-4bed-a272-57696d7ad14b",
   "metadata": {},
   "source": [
    "## Author \n"
   ]
  },
  {
   "cell_type": "markdown",
   "id": "05a66057-3e0e-418a-acba-d5e3ffaf40c9",
   "metadata": {},
   "source": [
    "Alexandra Herrera"
   ]
  },
  {
   "cell_type": "code",
   "execution_count": null,
   "id": "eeb64734-036e-441c-a22a-e9832dd794b3",
   "metadata": {},
   "outputs": [],
   "source": []
  }
 ],
 "metadata": {
  "kernelspec": {
   "display_name": "Python 3 (ipykernel)",
   "language": "python",
   "name": "python3"
  },
  "language_info": {
   "codemirror_mode": {
    "name": "ipython",
    "version": 3
   },
   "file_extension": ".py",
   "mimetype": "text/x-python",
   "name": "python",
   "nbconvert_exporter": "python",
   "pygments_lexer": "ipython3",
   "version": "3.13.5"
  }
 },
 "nbformat": 4,
 "nbformat_minor": 5
}
